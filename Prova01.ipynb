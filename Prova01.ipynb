{
 "cells": [
  {
   "cell_type": "code",
   "execution_count": 2,
   "id": "e0ac8719-de85-4b8b-bf7e-d8e5933fac21",
   "metadata": {},
   "outputs": [
    {
     "name": "stdin",
     "output_type": "stream",
     "text": [
      "Digite o primeiro valor inteiro:  24\n",
      "Digite o segundo valor inteiro:  48\n",
      "Digite o terceiro valor inteiro:  72\n"
     ]
    },
    {
     "name": "stdout",
     "output_type": "stream",
     "text": [
      "A média dos dois maiores valores é: 60.0\n"
     ]
    }
   ],
   "source": [
    "valor1 = int(input(\"Digite o primeiro valor inteiro: \"))\n",
    "valor2 = int(input(\"Digite o segundo valor inteiro: \"))\n",
    "valor3 = int(input(\"Digite o terceiro valor inteiro: \"))\n",
    "\n",
    "if valor1 >= valor2 and valor1 >= valor3:\n",
    "    if valor2 >= valor3:\n",
    "        media = (valor1 + valor2) / 2\n",
    "    else:\n",
    "        media = (valor1 + valor3) / 2\n",
    "elif valor2 >= valor1 and valor2 >= valor3:\n",
    "    if valor1 >= valor3:\n",
    "        media = (valor2 + valor1) / 2\n",
    "    else:\n",
    "        media = (valor2 + valor3) / 2\n",
    "else:  # valor3 é o maior\n",
    "    if valor1 >= valor2:\n",
    "        media = (valor3 + valor1) / 2\n",
    "    else:\n",
    "        media = (valor3 + valor2) / 2\n",
    "\n",
    "print(f\"A média dos dois maiores valores é: {media}\")"
   ]
  },
  {
   "cell_type": "code",
   "execution_count": null,
   "id": "d01c3bf2-88b3-4673-96f2-6b1cd10f5b1e",
   "metadata": {},
   "outputs": [],
   "source": []
  }
 ],
 "metadata": {
  "kernelspec": {
   "display_name": "Python [conda env:base] *",
   "language": "python",
   "name": "conda-base-py"
  },
  "language_info": {
   "codemirror_mode": {
    "name": "ipython",
    "version": 3
   },
   "file_extension": ".py",
   "mimetype": "text/x-python",
   "name": "python",
   "nbconvert_exporter": "python",
   "pygments_lexer": "ipython3",
   "version": "3.12.7"
  }
 },
 "nbformat": 4,
 "nbformat_minor": 5
}
